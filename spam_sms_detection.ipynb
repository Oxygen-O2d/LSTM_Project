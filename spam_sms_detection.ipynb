{
 "cells": [
  {
   "cell_type": "code",
   "execution_count": 1,
   "id": "f26d1789",
   "metadata": {},
   "outputs": [
    {
     "name": "stdout",
     "output_type": "stream",
     "text": [
      "Good evening from Surat! Starting the Spam SMS model training process at 2025-09-24T13:05:36.\n",
      "Using TensorFlow version: 2.20.0\n",
      "Downloading dataset...\n",
      "Extracting dataset...\n",
      "Dataset downloaded and extracted.\n",
      "\n",
      "Dataset Info:\n",
      "  label                                            message\n",
      "0   ham  Go until jurong point, crazy.. Available only ...\n",
      "1   ham                      Ok lar... Joking wif u oni...\n",
      "2  spam  Free entry in 2 a wkly comp to win FA Cup fina...\n",
      "3   ham  U dun say so early hor... U c already then say...\n",
      "4   ham  Nah I don't think he goes to usf, he lives aro...\n",
      "label\n",
      "ham     4825\n",
      "spam     747\n",
      "Name: count, dtype: int64\n",
      "\n",
      "Training data shape: (4457, 100)\n",
      "Test data shape: (1115, 100)\n",
      "\n",
      "Building the LSTM model architecture...\n"
     ]
    },
    {
     "name": "stderr",
     "output_type": "stream",
     "text": [
      "C:\\Users\\PRATHAM\\AppData\\Roaming\\Python\\Python313\\site-packages\\keras\\src\\layers\\core\\embedding.py:97: UserWarning: Argument `input_length` is deprecated. Just remove it.\n",
      "  warnings.warn(\n"
     ]
    },
    {
     "data": {
      "text/html": [
       "<pre style=\"white-space:pre;overflow-x:auto;line-height:normal;font-family:Menlo,'DejaVu Sans Mono',consolas,'Courier New',monospace\"><span style=\"font-weight: bold\">Model: \"sequential\"</span>\n",
       "</pre>\n"
      ],
      "text/plain": [
       "\u001b[1mModel: \"sequential\"\u001b[0m\n"
      ]
     },
     "metadata": {},
     "output_type": "display_data"
    },
    {
     "data": {
      "text/html": [
       "<pre style=\"white-space:pre;overflow-x:auto;line-height:normal;font-family:Menlo,'DejaVu Sans Mono',consolas,'Courier New',monospace\">┏━━━━━━━━━━━━━━━━━━━━━━━━━━━━━━━━━┳━━━━━━━━━━━━━━━━━━━━━━━━┳━━━━━━━━━━━━━━━┓\n",
       "┃<span style=\"font-weight: bold\"> Layer (type)                    </span>┃<span style=\"font-weight: bold\"> Output Shape           </span>┃<span style=\"font-weight: bold\">       Param # </span>┃\n",
       "┡━━━━━━━━━━━━━━━━━━━━━━━━━━━━━━━━━╇━━━━━━━━━━━━━━━━━━━━━━━━╇━━━━━━━━━━━━━━━┩\n",
       "│ embedding (<span style=\"color: #0087ff; text-decoration-color: #0087ff\">Embedding</span>)           │ ?                      │   <span style=\"color: #00af00; text-decoration-color: #00af00\">0</span> (unbuilt) │\n",
       "├─────────────────────────────────┼────────────────────────┼───────────────┤\n",
       "│ spatial_dropout1d               │ ?                      │             <span style=\"color: #00af00; text-decoration-color: #00af00\">0</span> │\n",
       "│ (<span style=\"color: #0087ff; text-decoration-color: #0087ff\">SpatialDropout1D</span>)              │                        │               │\n",
       "├─────────────────────────────────┼────────────────────────┼───────────────┤\n",
       "│ lstm (<span style=\"color: #0087ff; text-decoration-color: #0087ff\">LSTM</span>)                     │ ?                      │   <span style=\"color: #00af00; text-decoration-color: #00af00\">0</span> (unbuilt) │\n",
       "├─────────────────────────────────┼────────────────────────┼───────────────┤\n",
       "│ dense (<span style=\"color: #0087ff; text-decoration-color: #0087ff\">Dense</span>)                   │ ?                      │   <span style=\"color: #00af00; text-decoration-color: #00af00\">0</span> (unbuilt) │\n",
       "└─────────────────────────────────┴────────────────────────┴───────────────┘\n",
       "</pre>\n"
      ],
      "text/plain": [
       "┏━━━━━━━━━━━━━━━━━━━━━━━━━━━━━━━━━┳━━━━━━━━━━━━━━━━━━━━━━━━┳━━━━━━━━━━━━━━━┓\n",
       "┃\u001b[1m \u001b[0m\u001b[1mLayer (type)                   \u001b[0m\u001b[1m \u001b[0m┃\u001b[1m \u001b[0m\u001b[1mOutput Shape          \u001b[0m\u001b[1m \u001b[0m┃\u001b[1m \u001b[0m\u001b[1m      Param #\u001b[0m\u001b[1m \u001b[0m┃\n",
       "┡━━━━━━━━━━━━━━━━━━━━━━━━━━━━━━━━━╇━━━━━━━━━━━━━━━━━━━━━━━━╇━━━━━━━━━━━━━━━┩\n",
       "│ embedding (\u001b[38;5;33mEmbedding\u001b[0m)           │ ?                      │   \u001b[38;5;34m0\u001b[0m (unbuilt) │\n",
       "├─────────────────────────────────┼────────────────────────┼───────────────┤\n",
       "│ spatial_dropout1d               │ ?                      │             \u001b[38;5;34m0\u001b[0m │\n",
       "│ (\u001b[38;5;33mSpatialDropout1D\u001b[0m)              │                        │               │\n",
       "├─────────────────────────────────┼────────────────────────┼───────────────┤\n",
       "│ lstm (\u001b[38;5;33mLSTM\u001b[0m)                     │ ?                      │   \u001b[38;5;34m0\u001b[0m (unbuilt) │\n",
       "├─────────────────────────────────┼────────────────────────┼───────────────┤\n",
       "│ dense (\u001b[38;5;33mDense\u001b[0m)                   │ ?                      │   \u001b[38;5;34m0\u001b[0m (unbuilt) │\n",
       "└─────────────────────────────────┴────────────────────────┴───────────────┘\n"
      ]
     },
     "metadata": {},
     "output_type": "display_data"
    },
    {
     "data": {
      "text/html": [
       "<pre style=\"white-space:pre;overflow-x:auto;line-height:normal;font-family:Menlo,'DejaVu Sans Mono',consolas,'Courier New',monospace\"><span style=\"font-weight: bold\"> Total params: </span><span style=\"color: #00af00; text-decoration-color: #00af00\">0</span> (0.00 B)\n",
       "</pre>\n"
      ],
      "text/plain": [
       "\u001b[1m Total params: \u001b[0m\u001b[38;5;34m0\u001b[0m (0.00 B)\n"
      ]
     },
     "metadata": {},
     "output_type": "display_data"
    },
    {
     "data": {
      "text/html": [
       "<pre style=\"white-space:pre;overflow-x:auto;line-height:normal;font-family:Menlo,'DejaVu Sans Mono',consolas,'Courier New',monospace\"><span style=\"font-weight: bold\"> Trainable params: </span><span style=\"color: #00af00; text-decoration-color: #00af00\">0</span> (0.00 B)\n",
       "</pre>\n"
      ],
      "text/plain": [
       "\u001b[1m Trainable params: \u001b[0m\u001b[38;5;34m0\u001b[0m (0.00 B)\n"
      ]
     },
     "metadata": {},
     "output_type": "display_data"
    },
    {
     "data": {
      "text/html": [
       "<pre style=\"white-space:pre;overflow-x:auto;line-height:normal;font-family:Menlo,'DejaVu Sans Mono',consolas,'Courier New',monospace\"><span style=\"font-weight: bold\"> Non-trainable params: </span><span style=\"color: #00af00; text-decoration-color: #00af00\">0</span> (0.00 B)\n",
       "</pre>\n"
      ],
      "text/plain": [
       "\u001b[1m Non-trainable params: \u001b[0m\u001b[38;5;34m0\u001b[0m (0.00 B)\n"
      ]
     },
     "metadata": {},
     "output_type": "display_data"
    },
    {
     "name": "stdout",
     "output_type": "stream",
     "text": [
      "\n",
      "Starting training...\n",
      "Epoch 1/10\n",
      "140/140 - 17s - 122ms/step - accuracy: 0.8627 - loss: 0.4138 - val_accuracy: 0.8664 - val_loss: 0.3935\n",
      "Epoch 2/10\n",
      "140/140 - 9s - 65ms/step - accuracy: 0.8658 - loss: 0.3963 - val_accuracy: 0.8664 - val_loss: 0.3934\n",
      "Epoch 3/10\n",
      "140/140 - 9s - 61ms/step - accuracy: 0.8658 - loss: 0.3965 - val_accuracy: 0.8664 - val_loss: 0.3942\n",
      "Epoch 4/10\n",
      "140/140 - 9s - 61ms/step - accuracy: 0.8658 - loss: 0.3962 - val_accuracy: 0.8664 - val_loss: 0.3935\n",
      "Epoch 5/10\n",
      "140/140 - 9s - 61ms/step - accuracy: 0.8658 - loss: 0.3948 - val_accuracy: 0.8664 - val_loss: 0.3935\n",
      "Epoch 6/10\n",
      "140/140 - 9s - 61ms/step - accuracy: 0.8658 - loss: 0.3950 - val_accuracy: 0.8664 - val_loss: 0.3935\n",
      "Epoch 7/10\n",
      "140/140 - 9s - 61ms/step - accuracy: 0.8658 - loss: 0.3946 - val_accuracy: 0.8664 - val_loss: 0.3940\n",
      "Epoch 8/10\n",
      "140/140 - 10s - 70ms/step - accuracy: 0.8658 - loss: 0.3955 - val_accuracy: 0.8664 - val_loss: 0.3933\n",
      "Epoch 9/10\n",
      "140/140 - 15s - 110ms/step - accuracy: 0.8658 - loss: 0.3954 - val_accuracy: 0.8664 - val_loss: 0.3933\n",
      "Epoch 10/10\n",
      "140/140 - 16s - 116ms/step - accuracy: 0.8658 - loss: 0.3952 - val_accuracy: 0.8664 - val_loss: 0.3945\n"
     ]
    },
    {
     "name": "stderr",
     "output_type": "stream",
     "text": [
      "WARNING:absl:You are saving your model as an HDF5 file via `model.save()` or `keras.saving.save_model(model)`. This file format is considered legacy. We recommend using instead the native Keras format, e.g. `model.save('my_model.keras')` or `keras.saving.save_model(model, 'my_model.keras')`. \n"
     ]
    },
    {
     "name": "stdout",
     "output_type": "stream",
     "text": [
      "\n",
      "Saving model to spam_lstm_model.h5...\n",
      "Saving tokenizer word index to spam_tokenizer_word_index.json...\n",
      "\n",
      "Model and tokenizer have been saved successfully.\n",
      "You can now run the Streamlit app.\n"
     ]
    }
   ],
   "source": [
    "import os\n",
    "import requests\n",
    "import zipfile\n",
    "import pandas as pd\n",
    "import numpy as np\n",
    "import tensorflow as tf\n",
    "from tensorflow.keras.preprocessing.text import Tokenizer\n",
    "from tensorflow.keras.preprocessing.sequence import pad_sequences\n",
    "from tensorflow.keras.models import Sequential\n",
    "from tensorflow.keras.layers import Embedding, LSTM, Dense, Dropout, SpatialDropout1D\n",
    "from sklearn.model_selection import train_test_split\n",
    "import json\n",
    "\n",
    "print(f\"Good evening from Surat! Starting the Spam SMS model training process at {\n",
    "      np.datetime64('now', 's')}.\")\n",
    "print(f\"Using TensorFlow version: {tf.__version__}\")\n",
    "\n",
    "# --- 1. Download and Prepare Data ---\n",
    "DATA_URL = 'https://archive.ics.uci.edu/ml/machine-learning-databases/00228/smsspamcollection.zip'\n",
    "ZIP_FILE_PATH = 'smsspamcollection.zip'\n",
    "EXTRACTED_FILE_PATH = 'SMSSpamCollection'\n",
    "\n",
    "if not os.path.exists(EXTRACTED_FILE_PATH):\n",
    "    print(\"Downloading dataset...\")\n",
    "    response = requests.get(DATA_URL)\n",
    "    with open(ZIP_FILE_PATH, 'wb') as f:\n",
    "        f.write(response.content)\n",
    "    \n",
    "    print(\"Extracting dataset...\")\n",
    "    with zipfile.ZipFile(ZIP_FILE_PATH, 'r') as zip_ref:\n",
    "        zip_ref.extractall()\n",
    "    \n",
    "    os.remove(ZIP_FILE_PATH)\n",
    "    print(\"Dataset downloaded and extracted.\")\n",
    "else:\n",
    "    print(\"Dataset already exists.\")\n",
    "\n",
    "# Load data with pandas\n",
    "df = pd.read_csv(EXTRACTED_FILE_PATH, sep='\\t', header=None, names=['label', 'message'])\n",
    "print(\"\\nDataset Info:\")\n",
    "print(df.head())\n",
    "print(df['label'].value_counts())\n",
    "\n",
    "# --- 2. Preprocess Data ---\n",
    "# Map labels to numerical values\n",
    "df['label'] = df['label'].map({'ham': 0, 'spam': 1})\n",
    "\n",
    "# Create tokenizer\n",
    "# These parameters must be consistent between training and the app\n",
    "VOCAB_SIZE = 5000  # Size of the vocabulary\n",
    "MAX_LEN = 100      # Max length of a message\n",
    "TRUNC_TYPE = 'post'\n",
    "PADDING_TYPE = 'post'\n",
    "OOV_TOKEN = \"<OOV>\"  # Out-of-vocabulary token for words not in the tokenizer\n",
    "\n",
    "tokenizer = Tokenizer(num_words=VOCAB_SIZE, oov_token=OOV_TOKEN)\n",
    "tokenizer.fit_on_texts(df['message'])\n",
    "\n",
    "# Convert text to sequences\n",
    "sequences = tokenizer.texts_to_sequences(df['message'])\n",
    "padded_sequences = pad_sequences(sequences, maxlen=MAX_LEN, padding=PADDING_TYPE, truncating=TRUNC_TYPE)\n",
    "\n",
    "# --- 3. Split Data ---\n",
    "X_train, X_test, y_train, y_test = train_test_split(\n",
    "    padded_sequences, df['label'].values, test_size=0.2, random_state=42\n",
    ")\n",
    "print(f\"\\nTraining data shape: {X_train.shape}\")\n",
    "print(f\"Test data shape: {X_test.shape}\")\n",
    "\n",
    "# --- 4. Build and Compile Model ---\n",
    "EMBEDDING_DIM = 64\n",
    "LSTM_UNITS = 64\n",
    "EPOCHS = 10\n",
    "BATCH_SIZE = 32\n",
    "\n",
    "print(\"\\nBuilding the LSTM model architecture...\")\n",
    "model = Sequential([\n",
    "    Embedding(input_dim=VOCAB_SIZE, output_dim=EMBEDDING_DIM, input_length=MAX_LEN),\n",
    "    SpatialDropout1D(0.2), # Dropout for the embedding layer\n",
    "    LSTM(units=LSTM_UNITS, dropout=0.2, recurrent_dropout=0.2),\n",
    "    Dense(1, activation='sigmoid')\n",
    "])\n",
    "\n",
    "model.compile(loss='binary_crossentropy', optimizer='adam', metrics=['accuracy'])\n",
    "model.summary()\n",
    "\n",
    "# --- 5. Train the Model ---\n",
    "print(\"\\nStarting training...\")\n",
    "history = model.fit(\n",
    "    X_train, y_train,\n",
    "    epochs=EPOCHS,\n",
    "    batch_size=BATCH_SIZE,\n",
    "    validation_data=(X_test, y_test),\n",
    "    verbose=2\n",
    ")\n",
    "\n",
    "# --- 6. Save Artifacts ---\n",
    "# Save the trained model\n",
    "model_path = 'spam_lstm_model.h5'\n",
    "print(f\"\\nSaving model to {model_path}...\")\n",
    "model.save(model_path)\n",
    "\n",
    "# Save the tokenizer's word_index\n",
    "tokenizer_path = 'spam_tokenizer_word_index.json'\n",
    "print(f\"Saving tokenizer word index to {tokenizer_path}...\")\n",
    "with open(tokenizer_path, 'w', encoding='utf-8') as f:\n",
    "    f.write(json.dumps(tokenizer.word_index, ensure_ascii=False))\n",
    "\n",
    "print(\"\\nModel and tokenizer have been saved successfully.\")\n",
    "print(\"You can now run the Streamlit app.\")\n"
   ]
  },
  {
   "cell_type": "code",
   "execution_count": null,
   "id": "cbd62d51",
   "metadata": {},
   "outputs": [],
   "source": []
  }
 ],
 "metadata": {
  "kernelspec": {
   "display_name": "base",
   "language": "python",
   "name": "python3"
  },
  "language_info": {
   "codemirror_mode": {
    "name": "ipython",
    "version": 3
   },
   "file_extension": ".py",
   "mimetype": "text/x-python",
   "name": "python",
   "nbconvert_exporter": "python",
   "pygments_lexer": "ipython3",
   "version": "3.13.5"
  }
 },
 "nbformat": 4,
 "nbformat_minor": 5
}
